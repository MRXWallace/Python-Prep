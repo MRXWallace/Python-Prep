{
 "cells": [
  {
   "cell_type": "markdown",
   "metadata": {},
   "source": [
    "## Flujos de Control"
   ]
  },
  {
   "cell_type": "markdown",
   "metadata": {},
   "source": [
    "1) Crear una variable que contenga un elemento del conjunto de números enteros y luego imprimir por pantalla si es mayor o menor a cero"
   ]
  },
  {
   "cell_type": "code",
   "execution_count": 93,
   "metadata": {},
   "outputs": [
    {
     "name": "stdout",
     "output_type": "stream",
     "text": [
      "El valor es mayor a cero\n"
     ]
    }
   ],
   "source": [
    "a1=27\n",
    "if (a1>0):\n",
    "    print('El valor es mayor a cero')\n",
    "elif (a1<0):\n",
    "    print('El valor es menor a cero')\n",
    "else:\n",
    "    print('El valor es incorrecto')"
   ]
  },
  {
   "cell_type": "markdown",
   "metadata": {},
   "source": [
    "2) Crear dos variables y un condicional que informe si son del mismo tipo de dato"
   ]
  },
  {
   "cell_type": "code",
   "execution_count": 94,
   "metadata": {},
   "outputs": [
    {
     "name": "stdout",
     "output_type": "stream",
     "text": [
      "Los valores son de distinto tipo de dato\n"
     ]
    }
   ],
   "source": [
    "a2=27\n",
    "b2='String'\n",
    "if(type(a2)==type(b2)):\n",
    "    print('Los valores son del mismo tipo de dato')\n",
    "else:\n",
    "    print('Los valores son de distinto tipo de dato')"
   ]
  },
  {
   "cell_type": "markdown",
   "metadata": {},
   "source": [
    "3) Para los valores enteros del 1 al 20, imprimir por pantalla si es par o impar"
   ]
  },
  {
   "cell_type": "code",
   "execution_count": 95,
   "metadata": {},
   "outputs": [
    {
     "name": "stdout",
     "output_type": "stream",
     "text": [
      "1 es impar\n",
      "2 es par\n",
      "3 es impar\n",
      "4 es par\n",
      "5 es impar\n",
      "6 es par\n",
      "7 es impar\n",
      "8 es par\n",
      "9 es impar\n",
      "10 es par\n",
      "11 es impar\n",
      "12 es par\n",
      "13 es impar\n",
      "14 es par\n",
      "15 es impar\n",
      "16 es par\n",
      "17 es impar\n",
      "18 es par\n",
      "19 es impar\n",
      "20 es par\n"
     ]
    }
   ],
   "source": [
    "for i in range(1,21):\n",
    "    if i%2==0:\n",
    "        print(i, 'es par')\n",
    "    else:\n",
    "        print(i, 'es impar')"
   ]
  },
  {
   "cell_type": "markdown",
   "metadata": {},
   "source": [
    "4) En un ciclo for mostrar para los valores entre 0 y 5 el resultado de elevarlo a la potencia igual a 3"
   ]
  },
  {
   "cell_type": "code",
   "execution_count": 96,
   "metadata": {},
   "outputs": [
    {
     "name": "stdout",
     "output_type": "stream",
     "text": [
      "El Valor 0 elevado a la tercera potencia es igual a 0\n",
      "El Valor 1 elevado a la tercera potencia es igual a 1\n",
      "El Valor 2 elevado a la tercera potencia es igual a 8\n",
      "El Valor 3 elevado a la tercera potencia es igual a 27\n",
      "El Valor 4 elevado a la tercera potencia es igual a 64\n",
      "El Valor 5 elevado a la tercera potencia es igual a 125\n"
     ]
    }
   ],
   "source": [
    "a4=0\n",
    "while a4 < 6:\n",
    "    b4=a4**3\n",
    "    print('El Valor' ,(a4), 'elevado a la tercera potencia es igual a' ,(b4),)\n",
    "    a4=a4+1"
   ]
  },
  {
   "cell_type": "markdown",
   "metadata": {},
   "source": [
    "5) Crear una variable que contenga un número entero y realizar un ciclo for la misma cantidad de ciclos"
   ]
  },
  {
   "cell_type": "code",
   "execution_count": 97,
   "metadata": {},
   "outputs": [
    {
     "name": "stdout",
     "output_type": "stream",
     "text": [
      "0\n",
      "1\n",
      "2\n",
      "3\n",
      "4\n"
     ]
    }
   ],
   "source": [
    "a=5\n",
    "for a in range(0,a):\n",
    "    print(a)"
   ]
  },
  {
   "cell_type": "markdown",
   "metadata": {},
   "source": [
    "6) Utilizar un ciclo while para realizar el factoreo de un número guardado en una variable, sólo si la variable contiene un número entero mayor a 0"
   ]
  },
  {
   "cell_type": "code",
   "execution_count": 98,
   "metadata": {},
   "outputs": [
    {
     "name": "stdout",
     "output_type": "stream",
     "text": [
      "El Resultado es 720\n"
     ]
    }
   ],
   "source": [
    "a6 = 6\n",
    "if (type(a6) == int):\n",
    "    if (a6 > 0):\n",
    "        fact = a6\n",
    "        while (a6 > 2):\n",
    "            a6 = a6 - 1\n",
    "            fact = fact * a6\n",
    "        print('El Resultado es', fact)\n",
    "    else:\n",
    "        print('La variable no es mayor a cero')\n",
    "else:\n",
    "    print('La variable es incorrecta')\n"
   ]
  },
  {
   "cell_type": "markdown",
   "metadata": {},
   "source": [
    "7) Crear un ciclo for dentro de un ciclo while"
   ]
  },
  {
   "cell_type": "code",
   "execution_count": 99,
   "metadata": {},
   "outputs": [
    {
     "name": "stdout",
     "output_type": "stream",
     "text": [
      "El valor actual de la primera variable es 2\n",
      "El valor de la segunda variable es 1\n",
      "El valor de la segunda variable es 2\n",
      "El valor de la segunda variable es 3\n",
      "El valor de la segunda variable es 4\n",
      "El valor de la segunda variable es 5\n",
      "El valor actual de la primera variable es 1\n",
      "El valor de la segunda variable es 1\n",
      "El valor de la segunda variable es 2\n",
      "El valor de la segunda variable es 3\n",
      "El valor de la segunda variable es 4\n",
      "El valor de la segunda variable es 5\n"
     ]
    }
   ],
   "source": [
    "a7=2\n",
    "b7=0\n",
    "while (a7 > 0):\n",
    "    print('El valor actual de la primera variable es',(a7),)\n",
    "    a7=a7-1\n",
    "    for b7 in range(0,5):\n",
    "        b7=b7+1\n",
    "        print('El valor de la segunda variable es',(b7),)\n",
    "        "
   ]
  },
  {
   "cell_type": "markdown",
   "metadata": {},
   "source": [
    "8) Crear un ciclo while dentro de un ciclo for"
   ]
  },
  {
   "cell_type": "code",
   "execution_count": 100,
   "metadata": {},
   "outputs": [
    {
     "name": "stdout",
     "output_type": "stream",
     "text": [
      "El valor de la primera variable es 0 y la segunda variable se muestra 0 veces\n",
      "El valor de la primera variable es 1 y la segunda variable se muestra 1 veces\n",
      "El Valor de la Segunda Variable es 1\n",
      "El valor de la primera variable es 2 y la segunda variable se muestra 2 veces\n",
      "El Valor de la Segunda Variable es 2\n",
      "El valor de la primera variable es 3 y la segunda variable se muestra 3 veces\n",
      "El Valor de la Segunda Variable es 3\n",
      "El valor de la primera variable es 4 y la segunda variable se muestra 4 veces\n",
      "El Valor de la Segunda Variable es 4\n",
      "El valor de la primera variable es 5 y la segunda variable se muestra 5 veces\n",
      "El Valor de la Segunda Variable es 5\n",
      "El valor de la primera variable es 6 y la segunda variable se muestra 6 veces\n",
      "El Valor de la Segunda Variable es 6\n",
      "El valor de la primera variable es 7 y la segunda variable se muestra 7 veces\n",
      "El Valor de la Segunda Variable es 7\n",
      "El valor de la primera variable es 8 y la segunda variable se muestra 8 veces\n",
      "El Valor de la Segunda Variable es 8\n",
      "El valor de la primera variable es 9 y la segunda variable se muestra 9 veces\n",
      "El Valor de la Segunda Variable es 9\n"
     ]
    }
   ],
   "source": [
    "a8=10\n",
    "b8=0\n",
    "for a8 in range(0,10):\n",
    "    print('El valor de la primera variable es',a8, 'y la segunda variable se muestra',a8,'veces')\n",
    "    while(b8 < a8):\n",
    "        b8=b8+1\n",
    "        print('El Valor de la Segunda Variable es',b8,)\n"
   ]
  },
  {
   "cell_type": "markdown",
   "metadata": {},
   "source": [
    "9) Imprimir los números primos existentes entre 0 y 30"
   ]
  },
  {
   "cell_type": "code",
   "execution_count": 101,
   "metadata": {},
   "outputs": [
    {
     "name": "stdout",
     "output_type": "stream",
     "text": [
      "0\n",
      "1\n",
      "2\n",
      "3\n",
      "5\n",
      "7\n",
      "11\n",
      "13\n",
      "17\n",
      "19\n",
      "23\n",
      "29\n"
     ]
    }
   ],
   "source": [
    "a9 = 0\n",
    "prime = True\n",
    "while (a9 < 30):\n",
    "    for Rest in range(2, a9):\n",
    "        if (a9 % Rest == 0):\n",
    "            prime = False\n",
    "    if (prime):\n",
    "        print(a9)\n",
    "    else:\n",
    "        prime = True\n",
    "    a9 += 1"
   ]
  },
  {
   "cell_type": "markdown",
   "metadata": {},
   "source": [
    "10) ¿Se puede mejorar el proceso del punto 9? Utilizar las sentencias break y/ó continue para tal fin"
   ]
  },
  {
   "cell_type": "code",
   "execution_count": 102,
   "metadata": {},
   "outputs": [
    {
     "name": "stdout",
     "output_type": "stream",
     "text": [
      "Si, es posible\n",
      "0\n",
      "1\n",
      "2\n",
      "3\n",
      "5\n",
      "7\n",
      "11\n",
      "13\n",
      "17\n",
      "19\n",
      "23\n",
      "29\n",
      "31\n",
      "37\n",
      "41\n",
      "43\n",
      "47\n",
      "53\n",
      "59\n",
      "61\n",
      "67\n",
      "71\n",
      "73\n",
      "79\n",
      "83\n",
      "89\n",
      "97\n"
     ]
    }
   ],
   "source": [
    "print('Si, es posible')\n",
    "a10 = 0\n",
    "prime = True\n",
    "while (a10 < 100):\n",
    "    for Rest in range(2, a10):\n",
    "        if (a10 % Rest == 0):\n",
    "            prime = False\n",
    "            break\n",
    "    if (prime):\n",
    "        print(a10)\n",
    "    else:\n",
    "        prime = True\n",
    "    a10 += 1"
   ]
  },
  {
   "cell_type": "markdown",
   "metadata": {},
   "source": [
    "11) En los puntos 9 y 10, se diseño un código que encuentra números primos y además se lo optimizó. ¿Es posible saber en qué medida se optimizó?"
   ]
  },
  {
   "cell_type": "code",
   "execution_count": 103,
   "metadata": {},
   "outputs": [
    {
     "name": "stdout",
     "output_type": "stream",
     "text": [
      "Los procesos disminuyen, haciendolo mas ligero y rapido.\n"
     ]
    }
   ],
   "source": [
    "print('Los procesos disminuyen, haciendolo mas ligero y rapido.')"
   ]
  },
  {
   "cell_type": "markdown",
   "metadata": {},
   "source": [
    "12) Si la cantidad de números que se evalúa es mayor a treinta, esa optimización crece?"
   ]
  },
  {
   "cell_type": "code",
   "execution_count": 104,
   "metadata": {},
   "outputs": [
    {
     "name": "stdout",
     "output_type": "stream",
     "text": [
      "En el caso de que se use break si, si se usa continue se ejecutaran mas ciclos de los requeridos\n"
     ]
    }
   ],
   "source": [
    "print('En el caso de que se use break si, si se usa continue se ejecutaran mas ciclos de los requeridos')"
   ]
  },
  {
   "cell_type": "markdown",
   "metadata": {},
   "source": [
    "13) Aplicando continue, armar un ciclo while que solo imprima los valores divisibles por 12, dentro del rango de números de 100 a 300"
   ]
  },
  {
   "cell_type": "code",
   "execution_count": 105,
   "metadata": {},
   "outputs": [
    {
     "name": "stdout",
     "output_type": "stream",
     "text": [
      "El numero 300 es divisible entre 12\n",
      "El numero 288 es divisible entre 12\n",
      "El numero 276 es divisible entre 12\n",
      "El numero 264 es divisible entre 12\n",
      "El numero 252 es divisible entre 12\n",
      "El numero 240 es divisible entre 12\n",
      "El numero 228 es divisible entre 12\n",
      "El numero 216 es divisible entre 12\n",
      "El numero 204 es divisible entre 12\n",
      "El numero 192 es divisible entre 12\n",
      "El numero 180 es divisible entre 12\n",
      "El numero 168 es divisible entre 12\n",
      "El numero 156 es divisible entre 12\n",
      "El numero 144 es divisible entre 12\n",
      "El numero 132 es divisible entre 12\n",
      "El numero 120 es divisible entre 12\n",
      "El numero 108 es divisible entre 12\n"
     ]
    }
   ],
   "source": [
    "a13=300\n",
    "while True:\n",
    "    if (a13 > 100):\n",
    "        if (a13%12 ==0):\n",
    "            print('El numero',a13, 'es divisible entre 12')\n",
    "            a13-=1\n",
    "        elif (a13%12 !=0):\n",
    "            a13-=1\n",
    "    else:\n",
    "        break"
   ]
  },
  {
   "cell_type": "markdown",
   "metadata": {},
   "source": [
    "14) Utilizar la función **input()** que permite hacer ingresos por teclado, para encontrar números primos y dar la opción al usario de buscar el siguiente"
   ]
  },
  {
   "cell_type": "code",
   "execution_count": 106,
   "metadata": {},
   "outputs": [
    {
     "name": "stdout",
     "output_type": "stream",
     "text": [
      "1\n",
      "¿Desea encontrar el siguiente número primo?\n",
      "2\n",
      "¿Desea encontrar el siguiente número primo?\n",
      "3\n",
      "¿Desea encontrar el siguiente número primo?\n",
      "5\n",
      "¿Desea encontrar el siguiente número primo?\n",
      "7\n",
      "¿Desea encontrar el siguiente número primo?\n",
      "11\n",
      "¿Desea encontrar el siguiente número primo?\n",
      "13\n",
      "¿Desea encontrar el siguiente número primo?\n",
      "17\n",
      "¿Desea encontrar el siguiente número primo?\n",
      "19\n",
      "¿Desea encontrar el siguiente número primo?\n",
      "23\n",
      "¿Desea encontrar el siguiente número primo?\n",
      "29\n",
      "¿Desea encontrar el siguiente número primo?\n",
      "31\n",
      "¿Desea encontrar el siguiente número primo?\n",
      "37\n",
      "¿Desea encontrar el siguiente número primo?\n",
      "41\n",
      "¿Desea encontrar el siguiente número primo?\n",
      "43\n",
      "¿Desea encontrar el siguiente número primo?\n",
      "47\n",
      "¿Desea encontrar el siguiente número primo?\n",
      "53\n",
      "¿Desea encontrar el siguiente número primo?\n",
      "59\n",
      "¿Desea encontrar el siguiente número primo?\n",
      "Se finaliza el proceso\n"
     ]
    }
   ],
   "source": [
    "n = 1\n",
    "sigue = 1\n",
    "primo = True\n",
    "while (sigue == 1):\n",
    "    for div in range(2, n):\n",
    "        if (n % div == 0):\n",
    "            primo = False\n",
    "            break\n",
    "    if (primo):\n",
    "        print(n)\n",
    "        print('¿Desea encontrar el siguiente número primo?')\n",
    "        if (input() != 'y'):\n",
    "            print('Se finaliza el proceso')\n",
    "            break\n",
    "    else:\n",
    "        primo = True\n",
    "    n += 1\n"
   ]
  },
  {
   "cell_type": "markdown",
   "metadata": {},
   "source": [
    "15) Crear un ciclo while que encuentre dentro del rango de 100 a 300 el primer número divisible por 3 y además múltiplo de 6"
   ]
  },
  {
   "cell_type": "code",
   "execution_count": 107,
   "metadata": {},
   "outputs": [
    {
     "name": "stdout",
     "output_type": "stream",
     "text": [
      "El numero 102 es divisible entre 3 y multiplo de 6\n"
     ]
    }
   ],
   "source": [
    "a13=100\n",
    "while True:\n",
    "    if (a13 < 300):\n",
    "        if (a13%6 ==0):\n",
    "            print('El numero',a13, 'es divisible entre 3 y multiplo de 6')\n",
    "            a13+=1\n",
    "            break\n",
    "        elif (a13%6 !=0):\n",
    "            a13+=1\n",
    "        "
   ]
  }
 ],
 "metadata": {
  "interpreter": {
   "hash": "c85384e4cb51c8b72350f3a8712cc8351fdc3955e32a27f9b60c6242ab125f01"
  },
  "kernelspec": {
   "display_name": "Python 3.9.7 64-bit ('henry': conda)",
   "language": "python",
   "name": "python3"
  },
  "language_info": {
   "codemirror_mode": {
    "name": "ipython",
    "version": 3
   },
   "file_extension": ".py",
   "mimetype": "text/x-python",
   "name": "python",
   "nbconvert_exporter": "python",
   "pygments_lexer": "ipython3",
   "version": "3.9.7"
  }
 },
 "nbformat": 4,
 "nbformat_minor": 2
}
