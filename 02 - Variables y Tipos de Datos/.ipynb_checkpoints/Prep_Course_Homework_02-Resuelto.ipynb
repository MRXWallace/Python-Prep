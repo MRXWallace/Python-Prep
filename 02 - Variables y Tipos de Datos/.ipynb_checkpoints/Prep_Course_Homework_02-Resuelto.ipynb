{
 "cells": [
  {
   "cell_type": "markdown",
   "metadata": {},
   "source": [
    "## Variables"
   ]
  },
  {
   "cell_type": "markdown",
   "metadata": {},
   "source": [
    "1) Crear una variable que contenga un elemento del conjunto de números enteros y luego imprimir por pantalla"
   ]
  },
  {
   "cell_type": "code",
   "execution_count": 43,
   "metadata": {},
   "outputs": [
    {
     "name": "stdout",
     "output_type": "stream",
     "text": [
      "27\n"
     ]
    }
   ],
   "source": [
    "a1 = 27\n",
    "print(a1)"
   ]
  },
  {
   "cell_type": "markdown",
   "metadata": {},
   "source": [
    "2) Imprimir el tipo de dato de la constante 8.5"
   ]
  },
  {
   "cell_type": "code",
   "execution_count": 44,
   "metadata": {},
   "outputs": [
    {
     "name": "stdout",
     "output_type": "stream",
     "text": [
      "<class 'float'>\n"
     ]
    }
   ],
   "source": [
    "a2 = type(8.5)\n",
    "print(a2)"
   ]
  },
  {
   "cell_type": "markdown",
   "metadata": {},
   "source": [
    "3) Imprimir el tipo de dato de la variable creada en el punto 1"
   ]
  },
  {
   "cell_type": "code",
   "execution_count": 45,
   "metadata": {},
   "outputs": [
    {
     "name": "stdout",
     "output_type": "stream",
     "text": [
      "<class 'int'>\n"
     ]
    }
   ],
   "source": [
    "a3 = type(a1)\n",
    "print(a3)"
   ]
  },
  {
   "cell_type": "markdown",
   "metadata": {},
   "source": [
    "4) Crear una variable que contenga tu nombre"
   ]
  },
  {
   "cell_type": "code",
   "execution_count": 46,
   "metadata": {},
   "outputs": [
    {
     "name": "stdout",
     "output_type": "stream",
     "text": [
      "Alan Sánchez Díaz\n"
     ]
    }
   ],
   "source": [
    "Nombre = 'Alan Sánchez Díaz'\n",
    "print(Nombre)"
   ]
  },
  {
   "cell_type": "markdown",
   "metadata": {},
   "source": [
    "5) Crear una variable que contenga un número complejo"
   ]
  },
  {
   "cell_type": "code",
   "execution_count": 47,
   "metadata": {},
   "outputs": [
    {
     "name": "stdout",
     "output_type": "stream",
     "text": [
      "(10+2j)\n"
     ]
    }
   ],
   "source": [
    "num_complex = 10 + 2j\n",
    "print(num_complex)"
   ]
  },
  {
   "cell_type": "markdown",
   "metadata": {},
   "source": [
    "6) Mostrar el tipo de dato de la variable crada en el punto 5"
   ]
  },
  {
   "cell_type": "code",
   "execution_count": 48,
   "metadata": {},
   "outputs": [
    {
     "name": "stdout",
     "output_type": "stream",
     "text": [
      "<class 'complex'>\n"
     ]
    }
   ],
   "source": [
    "a6 = type(num_complex)\n",
    "print(a6)"
   ]
  },
  {
   "cell_type": "markdown",
   "metadata": {},
   "source": [
    "7) Crear una variable que contenga el valor del número Pi redondeado a 4 decimales"
   ]
  },
  {
   "cell_type": "code",
   "execution_count": 9,
   "metadata": {},
   "outputs": [
    {
     "name": "stdout",
     "output_type": "stream",
     "text": [
      "3.1416\n"
     ]
    }
   ],
   "source": [
    "Pi = 3.1416\n",
    "print(Pi)"
   ]
  },
  {
   "cell_type": "markdown",
   "metadata": {},
   "source": [
    "8) Crear una variable que contenga el valor 'True' y otra que contenga el valor True. ¿Se trata de lo mismo?"
   ]
  },
  {
   "cell_type": "code",
   "execution_count": 50,
   "metadata": {},
   "outputs": [
    {
     "name": "stdout",
     "output_type": "stream",
     "text": [
      "True\n",
      "True\n",
      "Son distintas cosas, ya que uno es un valor String y otro de tipo Boolean\n"
     ]
    }
   ],
   "source": [
    "VarStrVer = 'True'\n",
    "Ver = True\n",
    "print(VarStrVer)\n",
    "print(Ver)\n",
    "print('Son distintas cosas, ya que uno es un valor String y otro de tipo Boolean')"
   ]
  },
  {
   "cell_type": "markdown",
   "metadata": {},
   "source": [
    "9) Imprimir el tipo de dato correspondientes a las variables creadas en el punto 9"
   ]
  },
  {
   "cell_type": "code",
   "execution_count": 51,
   "metadata": {},
   "outputs": [
    {
     "name": "stdout",
     "output_type": "stream",
     "text": [
      "La variable 1 es de tipo  <class 'str'>  y la variable 2 es de tipo  <class 'bool'>\n"
     ]
    }
   ],
   "source": [
    "print('La variable 1 es de tipo ', type(VarStrVer), ' y la variable 2 es de tipo ', type(Ver))"
   ]
  },
  {
   "cell_type": "markdown",
   "metadata": {},
   "source": [
    "10) Asignar a una variable, la suma de un número entero y otro decimal"
   ]
  },
  {
   "cell_type": "code",
   "execution_count": 52,
   "metadata": {},
   "outputs": [
    {
     "name": "stdout",
     "output_type": "stream",
     "text": [
      "9.1416\n"
     ]
    }
   ],
   "source": [
    "a10 = 6 + 3.1416\n",
    "print(a10)"
   ]
  },
  {
   "cell_type": "markdown",
   "metadata": {},
   "source": [
    "11) Realizar una operación de suma de números complejos"
   ]
  },
  {
   "cell_type": "code",
   "execution_count": 53,
   "metadata": {},
   "outputs": [
    {
     "name": "stdout",
     "output_type": "stream",
     "text": [
      "(15+3j)\n"
     ]
    }
   ],
   "source": [
    "a11 = 10 + 2j\n",
    "b11 = 5 + 1j\n",
    "print(a11 + b11)"
   ]
  },
  {
   "cell_type": "markdown",
   "metadata": {},
   "source": [
    "12) Realizar una operación de suma de un número real y otro complejo"
   ]
  },
  {
   "cell_type": "code",
   "execution_count": 54,
   "metadata": {},
   "outputs": [
    {
     "name": "stdout",
     "output_type": "stream",
     "text": [
      "(3.1416+15j)\n"
     ]
    }
   ],
   "source": [
    "a12 = 3.1416 + 15j\n",
    "print(a12)"
   ]
  },
  {
   "cell_type": "markdown",
   "metadata": {},
   "source": [
    "13) Realizar una operación de multiplicación"
   ]
  },
  {
   "cell_type": "code",
   "execution_count": 55,
   "metadata": {},
   "outputs": [
    {
     "name": "stdout",
     "output_type": "stream",
     "text": [
      "8\n"
     ]
    }
   ],
   "source": [
    "a13 = 2 * 4\n",
    "print(a13)"
   ]
  },
  {
   "cell_type": "markdown",
   "metadata": {},
   "source": [
    "14) Mostrar el resultado de elevar 2 a la octava potencia"
   ]
  },
  {
   "cell_type": "code",
   "execution_count": 56,
   "metadata": {},
   "outputs": [
    {
     "name": "stdout",
     "output_type": "stream",
     "text": [
      "256\n"
     ]
    }
   ],
   "source": [
    "a14 = (2**8)\n",
    "print(a14)"
   ]
  },
  {
   "cell_type": "markdown",
   "metadata": {},
   "source": [
    "15) Obtener el cociente de la división de 27 entre 4 en una variable y luego mostrarla"
   ]
  },
  {
   "cell_type": "code",
   "execution_count": 57,
   "metadata": {},
   "outputs": [
    {
     "name": "stdout",
     "output_type": "stream",
     "text": [
      "6.75\n"
     ]
    }
   ],
   "source": [
    "a15 = 27 / 4\n",
    "print(a15)"
   ]
  },
  {
   "cell_type": "markdown",
   "metadata": {},
   "source": [
    "16) De la división anterior solamente mostrar la parte entera"
   ]
  },
  {
   "cell_type": "code",
   "execution_count": 58,
   "metadata": {},
   "outputs": [
    {
     "name": "stdout",
     "output_type": "stream",
     "text": [
      "6\n"
     ]
    }
   ],
   "source": [
    "a16 = 27 // 4\n",
    "print(a16)"
   ]
  },
  {
   "cell_type": "markdown",
   "metadata": {},
   "source": [
    "17) De la división de 27 entre 4 mostrar solamente el resto"
   ]
  },
  {
   "cell_type": "code",
   "execution_count": 59,
   "metadata": {},
   "outputs": [
    {
     "name": "stdout",
     "output_type": "stream",
     "text": [
      "3\n"
     ]
    }
   ],
   "source": [
    "a17 = 27 % 4\n",
    "print(a17)"
   ]
  },
  {
   "cell_type": "markdown",
   "metadata": {},
   "source": [
    "18) Utilizando como operandos el número 4 y los resultados obtenidos en los puntos 16 y 17. Obtener 27 como resultado"
   ]
  },
  {
   "cell_type": "code",
   "execution_count": 60,
   "metadata": {},
   "outputs": [
    {
     "name": "stdout",
     "output_type": "stream",
     "text": [
      "27\n"
     ]
    }
   ],
   "source": [
    "a18 = (4 * 6) + 3\n",
    "print(a18)"
   ]
  },
  {
   "cell_type": "markdown",
   "metadata": {},
   "source": [
    "19) Utilizar el operador \"+\" en una operación donde intervengan solo variables alfanuméricas"
   ]
  },
  {
   "cell_type": "code",
   "execution_count": 61,
   "metadata": {},
   "outputs": [
    {
     "name": "stdout",
     "output_type": "stream",
     "text": [
      "Star Craft 2\n"
     ]
    }
   ],
   "source": [
    "vstring1 = 'Star '\n",
    "vstring2 = 'Craft 2'\n",
    "print(vstring1 + vstring2)"
   ]
  },
  {
   "cell_type": "markdown",
   "metadata": {},
   "source": [
    "20) Evaluar si \"2\" es igual a 2. ¿Por qué ocurre eso?"
   ]
  },
  {
   "cell_type": "code",
   "execution_count": 62,
   "metadata": {},
   "outputs": [
    {
     "name": "stdout",
     "output_type": "stream",
     "text": [
      "False\n",
      "Son distintos tipos de valores\n"
     ]
    }
   ],
   "source": [
    "a20 = 2 == '2'\n",
    "print(a20)\n",
    "print('Son distintos tipos de valores')"
   ]
  },
  {
   "cell_type": "markdown",
   "metadata": {},
   "source": [
    "21) Utilizar las funciones de cambio de tipo de dato, para que la validación del punto 20 resulte verdadera"
   ]
  },
  {
   "cell_type": "code",
   "execution_count": 63,
   "metadata": {},
   "outputs": [
    {
     "name": "stdout",
     "output_type": "stream",
     "text": [
      "True\n",
      "El tipo de valores son idénticos\n"
     ]
    }
   ],
   "source": [
    "a21= 2 == int('2')\n",
    "print(a21)\n",
    "print('El tipo de valores son idénticos')"
   ]
  },
  {
   "cell_type": "markdown",
   "metadata": {},
   "source": [
    "22) ¿Por qué arroja error el siguiente cambio de tipo de datos? a = float('3,8')"
   ]
  },
  {
   "cell_type": "code",
   "execution_count": 64,
   "metadata": {},
   "outputs": [
    {
     "name": "stdout",
     "output_type": "stream",
     "text": [
      "Porque el caracter \",\" no es correcto para los decimales en terminos matemáticos, tampoco valido para el lenguaje de programación\n",
      "Lo correcto es lo siguiente:\n",
      "a = float('3.8')\n",
      "3.8\n"
     ]
    }
   ],
   "source": [
    "print('Porque el caracter \",\" no es correcto para los decimales en terminos matemáticos, tampoco valido para el lenguaje de programación')\n",
    "print('Lo correcto es lo siguiente:')\n",
    "print(\"a = float('3.8')\")\n",
    "a22 = (float('3.8'))\n",
    "print(a22)\n"
   ]
  },
  {
   "cell_type": "markdown",
   "metadata": {},
   "source": [
    "23) Crear una variable con el valor 3, y utilizar el operador '-=' para modificar su contenido"
   ]
  },
  {
   "cell_type": "code",
   "execution_count": 65,
   "metadata": {},
   "outputs": [
    {
     "name": "stdout",
     "output_type": "stream",
     "text": [
      "2\n"
     ]
    }
   ],
   "source": [
    "a23 = 3\n",
    "a23 -= 1\n",
    "print(a23)"
   ]
  },
  {
   "cell_type": "markdown",
   "metadata": {},
   "source": [
    "24) Realizar la operacion 1 << 2 ¿Por qué da ese resultado? ¿Qué es el sistema de numeración binario?"
   ]
  },
  {
   "cell_type": "code",
   "execution_count": 66,
   "metadata": {},
   "outputs": [
    {
     "name": "stdout",
     "output_type": "stream",
     "text": [
      "Nos muestra ese resultado ya que realiza una operacion llamada Bitshift, en este caso a la izquierda; el numero 1 es representado por 1 en binario\n",
      "al realizar la operacion de bitshift a la izquierda, la operacion nos indica que debe recorrerse 2 valores a la izquierda dando lugar al 100\n",
      "el cual al ser convertido de binario a decimal da como resultado el numero 4.\n",
      "Es un sistema de numeracion compuesto por 2 digitos el 1 y el 0; el cual es usado comunmente en el área informática.\n"
     ]
    },
    {
     "data": {
      "text/plain": [
       "'1 << 2 = 4'"
      ]
     },
     "execution_count": 66,
     "metadata": {},
     "output_type": "execute_result"
    }
   ],
   "source": [
    "a24 = 1 << 2\n",
    "print('Nos muestra ese resultado ya que realiza una operacion llamada Bitshift, en este caso a la izquierda; el numero 1 es representado por 1 en binario') \n",
    "print('al realizar la operacion de bitshift a la izquierda, la operacion nos indica que debe recorrerse 2 valores a la izquierda dando lugar al 100') \n",
    "print('el cual al ser convertido de binario a decimal da como resultado el numero 4.')\n",
    "print('Es un sistema de numeracion compuesto por 2 digitos el 1 y el 0; el cual es usado comunmente en el área informática.')\n",
    "'1 << 2 = 4'"
   ]
  },
  {
   "cell_type": "markdown",
   "metadata": {},
   "source": [
    "25) Realizar la operación 2 + '2' ¿Por qué no está permitido? ¿Si los dos operandos serían del mismo tipo, siempre arrojaría el mismo resultado?"
   ]
  },
  {
   "cell_type": "code",
   "execution_count": 67,
   "metadata": {},
   "outputs": [
    {
     "name": "stdout",
     "output_type": "stream",
     "text": [
      "No esta permitida la operacion ya que no se puede sumar datos del tipo string e integer, mas si concatenar\n",
      "Si los operandos son del mismo tipo el resultado dependerá del tipo de caracter, si son integer será una suma, si son string será una concatenación\n"
     ]
    }
   ],
   "source": [
    "print('No esta permitida la operacion ya que no se puede sumar datos del tipo string e integer, mas si concatenar')\n",
    "print('Si los operandos son del mismo tipo el resultado dependerá del tipo de caracter, si son integer será una suma, si son string será una concatenación')"
   ]
  },
  {
   "cell_type": "markdown",
   "metadata": {},
   "source": [
    "26) Realizar una operación válida entre valores de tipo entero y string"
   ]
  },
  {
   "cell_type": "code",
   "execution_count": 68,
   "metadata": {},
   "outputs": [
    {
     "name": "stdout",
     "output_type": "stream",
     "text": [
      "ABCDE ABCDE ABCDE ABCDE ABCDE \n",
      "Es un ejemplo de operacion entre 2 tipos de valores\n"
     ]
    }
   ],
   "source": [
    "Var261 = 'ABCDE '\n",
    "Var262 = 5\n",
    "a26 = Var261 * Var262\n",
    "print(a26)\n",
    "print ('Es un ejemplo de operacion entre 2 tipos de valores')"
   ]
  },
  {
   "cell_type": "markdown",
   "metadata": {},
   "source": [
    "Henry Challenge Ejercicio 1"
   ]
  },
  {
   "cell_type": "code",
   "execution_count": 83,
   "metadata": {},
   "outputs": [],
   "source": [
    "def ListaDivisibles(numero, tope):\n",
    "    lis=[]\n",
    "    cont=numero\n",
    "    if type(numero) != int:\n",
    "        return 'El numero divisor debe de ser un entero'\n",
    "    if numero<(0):\n",
    "        return 'El numero divisor debe de ser positivo'\n",
    "    if type(tope) != int:\n",
    "        return 'El numero tope debe de ser un entero'\n",
    "    if tope<(0):\n",
    "        return 'El numero tope debe de ser positivo'\n",
    "    while cont <= tope:\n",
    "        if cont % numero == 0:\n",
    "            lis.append(cont)\n",
    "            lis.sort\n",
    "        cont += 1\n",
    "    return(lis)"
   ]
  },
  {
   "cell_type": "code",
   "execution_count": 82,
   "metadata": {},
   "outputs": [
    {
     "data": {
      "text/plain": [
       "[2, 4, 6, 8, 10]"
      ]
     },
     "execution_count": 82,
     "metadata": {},
     "output_type": "execute_result"
    }
   ],
   "source": [
    "ListaDivisibles(2,10)"
   ]
  },
  {
   "cell_type": "markdown",
   "metadata": {},
   "source": [
    "Henry Challenge Ejercicio 2"
   ]
  },
  {
   "cell_type": "code",
   "execution_count": 154,
   "metadata": {},
   "outputs": [],
   "source": [
    "def Exponente(numero, exponente):\n",
    "    Resultado=numero**exponente\n",
    "    return(Resultado)\n"
   ]
  },
  {
   "cell_type": "code",
   "execution_count": 155,
   "metadata": {},
   "outputs": [
    {
     "data": {
      "text/plain": [
       "1000"
      ]
     },
     "execution_count": 155,
     "metadata": {},
     "output_type": "execute_result"
    }
   ],
   "source": [
    "Exponente(10,3)"
   ]
  },
  {
   "cell_type": "markdown",
   "metadata": {},
   "source": [
    "Henry Challenge Ejercicio 3"
   ]
  },
  {
   "cell_type": "code",
   "execution_count": 35,
   "metadata": {},
   "outputs": [],
   "source": [
    "def ListaDeListas(lista):\n",
    "    '''\n",
    "    Esta función recibe una lista, que puede contener elementos que a su vez sean listas y\n",
    "    devuelve esos elementos por separado en una lista única. \n",
    "    En caso de que el parámetro no sea de tipo lista, debe retornar nulo.\n",
    "    Recibe un argumento:\n",
    "        lista: La lista que puede contener otras listas y se convierte a una \n",
    "        lista de elementos únicos o no iterables.\n",
    "    Ej:\n",
    "        ListaDeListas([1,2,['a','b'],[10]]) debe retornar [1,2,'a','b',10]\n",
    "        ListaDeListas(108) debe retornar el valor nulo.\n",
    "        ListaDeListas([[1,2,[3]],[4]]) debe retornar [1,2,3,4]\n",
    "    '''\n",
    "    #Tu código aca:\n",
    "    if type (lista) != list:\n",
    "        return None\n",
    "    lista.sort\n",
    "    return lista\n",
    "    \n"
   ]
  },
  {
   "cell_type": "code",
   "execution_count": 87,
   "metadata": {},
   "outputs": [],
   "source": [
    "def ListaDeListas(lista):\n",
    "    if type(lista) != list:\n",
    "        return None\n",
    "    listafin=[]\n",
    "    while len(lista) > 0:\n",
    "        listat=[]\n",
    "        retval = lista.pop()\n",
    "        print (type(retval)) \n",
    "        if type(retval) == list:\n",
    "            while len(retval) > 0:\n",
    "                listat=[]\n",
    "                retval2=retval.pop()\n",
    "                print (type(retval2))\n",
    "                listat.append(retval2)\n",
    "                listafin=listafin+listat\n",
    "                print(len(lista))\n",
    "        else:\n",
    "            listat.append(retval)\n",
    "            listafin=listafin+listat\n",
    "            print (len(lista))\n",
    "\n",
    "    return listafin\n",
    "\n",
    "\n",
    "    \n"
   ]
  },
  {
   "cell_type": "code",
   "execution_count": 89,
   "metadata": {},
   "outputs": [
    {
     "name": "stdout",
     "output_type": "stream",
     "text": [
      "<class 'list'>\n",
      "<class 'list'>\n",
      "3\n",
      "<class 'list'>\n",
      "<class 'int'>\n",
      "2\n",
      "<class 'list'>\n",
      "2\n",
      "<class 'list'>\n",
      "<class 'int'>\n",
      "1\n",
      "<class 'int'>\n",
      "1\n",
      "<class 'int'>\n",
      "0\n"
     ]
    },
    {
     "data": {
      "text/plain": [
       "[[7], 6, [4, 5], 3, 2, 1]"
      ]
     },
     "execution_count": 89,
     "metadata": {},
     "output_type": "execute_result"
    }
   ],
   "source": [
    "ListaDeListas([1,[2,3],[[4,5],6],[[7]]])"
   ]
  },
  {
   "cell_type": "markdown",
   "metadata": {},
   "source": [
    "prueba 2"
   ]
  },
  {
   "cell_type": "code",
   "execution_count": 112,
   "metadata": {},
   "outputs": [],
   "source": [
    "def ListaDeListas(lista):\n",
    "    if type(lista) != list:\n",
    "        return None\n",
    "    listafin=[]\n",
    "    while len(lista) > 0:\n",
    "        listat=[]\n",
    "        retval = lista.pop()\n",
    "        print (type(retval)) \n",
    "        if type(retval) == list:\n",
    "            while len(retval) > 0:\n",
    "                listat=[]\n",
    "                retval2=retval.pop()\n",
    "                print (type(retval2))\n",
    "                listat.append(retval2)\n",
    "                listafin=listafin+listat\n",
    "                print(len(lista))\n",
    "        else:\n",
    "            listat.append(retval)\n",
    "            listafin=listafin+listat\n",
    "            print (len(lista))\n",
    "    print(listafin)\n",
    "\n",
    "    cantidad = 0\n",
    "    lis2=[]\n",
    "    lisfin=[]\n",
    "    for elemento in listafin:\n",
    "        if (type(elemento) == list):\n",
    "            cantidad += len(elemento)\n",
    "            \n",
    "            lis2=lis2+elemento\n",
    "            lisfin=lis2+elemento\n",
    "        else:\n",
    "            lis2.append(elemento)\n",
    "            lisfin=lisfin+lis2\n",
    "            cantidad += 1\n",
    "    lis2.reverse()\n",
    "    return lis2"
   ]
  },
  {
   "cell_type": "code",
   "execution_count": 113,
   "metadata": {},
   "outputs": [
    {
     "name": "stdout",
     "output_type": "stream",
     "text": [
      "<class 'list'>\n",
      "<class 'list'>\n",
      "2\n",
      "<class 'int'>\n",
      "1\n",
      "<class 'list'>\n",
      "<class 'list'>\n",
      "0\n",
      "[[[[3]]], 2, [1]]\n"
     ]
    },
    {
     "data": {
      "text/plain": [
       "[1, 2, [[3]]]"
      ]
     },
     "execution_count": 113,
     "metadata": {},
     "output_type": "execute_result"
    }
   ],
   "source": [
    "ListaDeListas([[[1]],2,[[[[3]]]]])"
   ]
  },
  {
   "cell_type": "code",
   "execution_count": 137,
   "metadata": {},
   "outputs": [
    {
     "name": "stdout",
     "output_type": "stream",
     "text": [
      "<list_iterator object at 0x000001AAE4A8BA30>\n",
      "[[1, 2]]\n",
      "2\n",
      "4\n",
      "[[[[3, 6]]]]\n"
     ]
    }
   ],
   "source": [
    "def ListaDeListas(lista):\n",
    "    if type(lista) != list:\n",
    "        return None\n",
    "lista=([[[1,2]],2,4,[[[[3,6]]]]])\n",
    "datos=iter(lista)\n",
    "print(datos)\n",
    "print(next(datos))\n",
    "print(next(datos))\n",
    "print(next(datos))\n",
    "print(next(datos))\n"
   ]
  },
  {
   "cell_type": "code",
   "execution_count": 136,
   "metadata": {},
   "outputs": [],
   "source": [
    "ListaDeListas([[[1,2]],2,4,[[[[3,6]]]]])"
   ]
  }
 ],
 "metadata": {
  "interpreter": {
   "hash": "c85384e4cb51c8b72350f3a8712cc8351fdc3955e32a27f9b60c6242ab125f01"
  },
  "kernelspec": {
   "display_name": "Python 3 (ipykernel)",
   "language": "python",
   "name": "python3"
  },
  "language_info": {
   "codemirror_mode": {
    "name": "ipython",
    "version": 3
   },
   "file_extension": ".py",
   "mimetype": "text/x-python",
   "name": "python",
   "nbconvert_exporter": "python",
   "pygments_lexer": "ipython3",
   "version": "3.10.2"
  }
 },
 "nbformat": 4,
 "nbformat_minor": 4
}
