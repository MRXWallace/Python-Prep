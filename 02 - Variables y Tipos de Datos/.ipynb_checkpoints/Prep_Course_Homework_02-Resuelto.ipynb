{
 "cells": [
  {
   "cell_type": "markdown",
   "metadata": {},
   "source": [
    "## Variables"
   ]
  },
  {
   "cell_type": "markdown",
   "metadata": {},
   "source": [
    "1) Crear una variable que contenga un elemento del conjunto de números enteros y luego imprimir por pantalla"
   ]
  },
  {
   "cell_type": "code",
   "execution_count": 8,
   "metadata": {},
   "outputs": [
    {
     "name": "stdout",
     "output_type": "stream",
     "text": [
      "27\n"
     ]
    }
   ],
   "source": [
    "a1 = 27\n",
    "print(a1)"
   ]
  },
  {
   "cell_type": "markdown",
   "metadata": {},
   "source": [
    "2) Imprimir el tipo de dato de la constante 8.5"
   ]
  },
  {
   "cell_type": "code",
   "execution_count": 9,
   "metadata": {},
   "outputs": [
    {
     "data": {
      "text/plain": [
       "float"
      ]
     },
     "execution_count": 9,
     "metadata": {},
     "output_type": "execute_result"
    }
   ],
   "source": [
    "type(10.15)"
   ]
  },
  {
   "cell_type": "markdown",
   "metadata": {},
   "source": [
    "3) Imprimir el tipo de dato de la variable creada en el punto 1"
   ]
  },
  {
   "cell_type": "code",
   "execution_count": 10,
   "metadata": {},
   "outputs": [
    {
     "data": {
      "text/plain": [
       "int"
      ]
     },
     "execution_count": 10,
     "metadata": {},
     "output_type": "execute_result"
    }
   ],
   "source": [
    "type(a1)"
   ]
  },
  {
   "cell_type": "markdown",
   "metadata": {},
   "source": [
    "4) Crear una variable que contenga tu nombre"
   ]
  },
  {
   "cell_type": "code",
   "execution_count": 11,
   "metadata": {},
   "outputs": [],
   "source": [
    "Nombre = 'Alan Sánchez Díaz'"
   ]
  },
  {
   "cell_type": "markdown",
   "metadata": {},
   "source": [
    "5) Crear una variable que contenga un número complejo"
   ]
  },
  {
   "cell_type": "code",
   "execution_count": 12,
   "metadata": {},
   "outputs": [],
   "source": [
    "num_complex = 10 + 2j"
   ]
  },
  {
   "cell_type": "markdown",
   "metadata": {},
   "source": [
    "6) Mostrar el tipo de dato de la variable crada en el punto 5"
   ]
  },
  {
   "cell_type": "code",
   "execution_count": 13,
   "metadata": {},
   "outputs": [
    {
     "data": {
      "text/plain": [
       "complex"
      ]
     },
     "execution_count": 13,
     "metadata": {},
     "output_type": "execute_result"
    }
   ],
   "source": [
    "type(num_complex)"
   ]
  },
  {
   "cell_type": "markdown",
   "metadata": {},
   "source": [
    "7) Crear una variable que contenga el valor del número Pi redondeado a 4 decimales"
   ]
  },
  {
   "cell_type": "code",
   "execution_count": 14,
   "metadata": {},
   "outputs": [],
   "source": [
    "Pi = 3.1416"
   ]
  },
  {
   "cell_type": "markdown",
   "metadata": {},
   "source": [
    "8) Crear una variable que contenga el valor 'True' y otra que contenga el valor True. ¿Se trata de lo mismo?"
   ]
  },
  {
   "cell_type": "code",
   "execution_count": 15,
   "metadata": {},
   "outputs": [],
   "source": [
    "VarStrVer = 'True'\n",
    "Ver = True"
   ]
  },
  {
   "cell_type": "markdown",
   "metadata": {},
   "source": [
    "9) Imprimir el tipo de dato correspondientes a las variables creadas en el punto 9"
   ]
  },
  {
   "cell_type": "code",
   "execution_count": 16,
   "metadata": {},
   "outputs": [
    {
     "name": "stdout",
     "output_type": "stream",
     "text": [
      "La variable 1 es de tipo  <class 'str'>  y la variable 2 es de tipo  <class 'bool'>\n"
     ]
    }
   ],
   "source": [
    "print('La variable 1 es de tipo ', type(VarStrVer), ' y la variable 2 es de tipo ', type(Ver))"
   ]
  },
  {
   "cell_type": "markdown",
   "metadata": {},
   "source": [
    "10) Asignar a una variable, la suma de un número entero y otro decimal"
   ]
  },
  {
   "cell_type": "code",
   "execution_count": 17,
   "metadata": {},
   "outputs": [],
   "source": [
    "a10 = 6 + 3.1416"
   ]
  },
  {
   "cell_type": "markdown",
   "metadata": {},
   "source": [
    "11) Realizar una operación de suma de números complejos"
   ]
  },
  {
   "cell_type": "code",
   "execution_count": 18,
   "metadata": {},
   "outputs": [
    {
     "ename": "NameError",
     "evalue": "name 'a' is not defined",
     "output_type": "error",
     "traceback": [
      "\u001b[1;31m---------------------------------------------------------------------------\u001b[0m",
      "\u001b[1;31mNameError\u001b[0m                                 Traceback (most recent call last)",
      "\u001b[1;32mc:\\Users\\Wallace\\Documents\\Henry Data Science\\Git\\Python-Prep\\02 - Variables y Tipos de Datos\\.ipynb_checkpoints\\Prep_Course_Homework_02-Resuelto.ipynb Cell 23'\u001b[0m in \u001b[0;36m<module>\u001b[1;34m\u001b[0m\n\u001b[0;32m      <a href='vscode-notebook-cell:/c%3A/Users/Wallace/Documents/Henry%20Data%20Science/Git/Python-Prep/02%20-%20Variables%20y%20Tipos%20de%20Datos/.ipynb_checkpoints/Prep_Course_Homework_02-Resuelto.ipynb#ch0000022?line=0'>1</a>\u001b[0m a11 \u001b[39m=\u001b[39m \u001b[39m10\u001b[39m \u001b[39m+\u001b[39m \u001b[39m2\u001b[39mj\n\u001b[0;32m      <a href='vscode-notebook-cell:/c%3A/Users/Wallace/Documents/Henry%20Data%20Science/Git/Python-Prep/02%20-%20Variables%20y%20Tipos%20de%20Datos/.ipynb_checkpoints/Prep_Course_Homework_02-Resuelto.ipynb#ch0000022?line=1'>2</a>\u001b[0m b11 \u001b[39m=\u001b[39m \u001b[39m5\u001b[39m \u001b[39m+\u001b[39m \u001b[39m1\u001b[39mj\n\u001b[1;32m----> <a href='vscode-notebook-cell:/c%3A/Users/Wallace/Documents/Henry%20Data%20Science/Git/Python-Prep/02%20-%20Variables%20y%20Tipos%20de%20Datos/.ipynb_checkpoints/Prep_Course_Homework_02-Resuelto.ipynb#ch0000022?line=2'>3</a>\u001b[0m \u001b[39mprint\u001b[39m(a \u001b[39m+\u001b[39m b)\n",
      "\u001b[1;31mNameError\u001b[0m: name 'a' is not defined"
     ]
    }
   ],
   "source": [
    "a11 = 10 + 2j\n",
    "b11 = 5 + 1j\n",
    "print(a + b)"
   ]
  },
  {
   "cell_type": "markdown",
   "metadata": {},
   "source": [
    "12) Realizar una operación de suma de un número real y otro complejo"
   ]
  },
  {
   "cell_type": "code",
   "execution_count": null,
   "metadata": {},
   "outputs": [
    {
     "name": "stdout",
     "output_type": "stream",
     "text": [
      "(3.1416+15j)\n"
     ]
    }
   ],
   "source": [
    "Sum12 = 3.1416 + 15j\n",
    "print(Sum12)"
   ]
  },
  {
   "cell_type": "markdown",
   "metadata": {},
   "source": [
    "13) Realizar una operación de multiplicación"
   ]
  },
  {
   "cell_type": "code",
   "execution_count": null,
   "metadata": {},
   "outputs": [
    {
     "name": "stdout",
     "output_type": "stream",
     "text": [
      "8\n"
     ]
    }
   ],
   "source": [
    "Mult13 = 2 * 4\n",
    "print(Mult13)"
   ]
  },
  {
   "cell_type": "markdown",
   "metadata": {},
   "source": [
    "14) Mostrar el resultado de elevar 2 a la octava potencia"
   ]
  },
  {
   "cell_type": "code",
   "execution_count": null,
   "metadata": {},
   "outputs": [
    {
     "name": "stdout",
     "output_type": "stream",
     "text": [
      "256\n"
     ]
    }
   ],
   "source": [
    "Pot14 = (2**8)\n",
    "print(Pot14)"
   ]
  },
  {
   "cell_type": "markdown",
   "metadata": {},
   "source": [
    "15) Obtener el cociente de la división de 27 entre 4 en una variable y luego mostrarla"
   ]
  },
  {
   "cell_type": "code",
   "execution_count": null,
   "metadata": {},
   "outputs": [
    {
     "name": "stdout",
     "output_type": "stream",
     "text": [
      "6.75\n"
     ]
    }
   ],
   "source": [
    "Div15 = 27 / 4\n",
    "print(Div15)"
   ]
  },
  {
   "cell_type": "markdown",
   "metadata": {},
   "source": [
    "16) De la división anterior solamente mostrar la parte entera"
   ]
  },
  {
   "cell_type": "code",
   "execution_count": null,
   "metadata": {},
   "outputs": [
    {
     "name": "stdout",
     "output_type": "stream",
     "text": [
      "6\n"
     ]
    }
   ],
   "source": [
    "Div16 = 27 // 4\n",
    "print(Div16)"
   ]
  },
  {
   "cell_type": "markdown",
   "metadata": {},
   "source": [
    "17) De la división de 27 entre 4 mostrar solamente el resto"
   ]
  },
  {
   "cell_type": "code",
   "execution_count": null,
   "metadata": {},
   "outputs": [
    {
     "name": "stdout",
     "output_type": "stream",
     "text": [
      "3\n"
     ]
    }
   ],
   "source": [
    "Div17 = 27 % 4\n",
    "print(Div17)"
   ]
  },
  {
   "cell_type": "markdown",
   "metadata": {},
   "source": [
    "18) Utilizando como operandos el número 4 y los resultados obtenidos en los puntos 16 y 17. Obtener 27 como resultado"
   ]
  },
  {
   "cell_type": "code",
   "execution_count": null,
   "metadata": {},
   "outputs": [
    {
     "name": "stdout",
     "output_type": "stream",
     "text": [
      "27\n"
     ]
    }
   ],
   "source": [
    "Op18 = (4 * 6) + 3\n",
    "print(Op18)"
   ]
  },
  {
   "cell_type": "markdown",
   "metadata": {},
   "source": [
    "19) Utilizar el operador \"+\" en una operación donde intervengan solo variables alfanuméricas"
   ]
  },
  {
   "cell_type": "code",
   "execution_count": null,
   "metadata": {},
   "outputs": [
    {
     "name": "stdout",
     "output_type": "stream",
     "text": [
      "Star Craft\n"
     ]
    }
   ],
   "source": [
    "vstring1 = 'Star '\n",
    "vstring2 = 'Craft'\n",
    "print(vstring1 + vstring2)"
   ]
  },
  {
   "cell_type": "markdown",
   "metadata": {},
   "source": [
    "20) Evaluar si \"2\" es igual a 2. ¿Por qué ocurre eso?"
   ]
  },
  {
   "cell_type": "code",
   "execution_count": null,
   "metadata": {},
   "outputs": [
    {
     "name": "stdout",
     "output_type": "stream",
     "text": [
      "False\n",
      "Son distintos tipos de valores\n"
     ]
    }
   ],
   "source": [
    "a20 = 2 == '2'\n",
    "print(a20)\n",
    "print('Son distintos tipos de valores')"
   ]
  },
  {
   "cell_type": "markdown",
   "metadata": {},
   "source": [
    "21) Utilizar las funciones de cambio de tipo de dato, para que la validación del punto 20 resulte verdadera"
   ]
  },
  {
   "cell_type": "code",
   "execution_count": null,
   "metadata": {},
   "outputs": [
    {
     "name": "stdout",
     "output_type": "stream",
     "text": [
      "True\n",
      "El tipo de valores son idénticos\n"
     ]
    }
   ],
   "source": [
    "a21= 2 == int('2')\n",
    "print(a21)\n",
    "print('El tipo de valores son idénticos')"
   ]
  },
  {
   "cell_type": "markdown",
   "metadata": {},
   "source": [
    "22) ¿Por qué arroja error el siguiente cambio de tipo de datos? a = float('3,8')"
   ]
  },
  {
   "cell_type": "code",
   "execution_count": null,
   "metadata": {},
   "outputs": [
    {
     "name": "stdout",
     "output_type": "stream",
     "text": [
      "Porque el caracter \",\" no es correcto para los decimales en terminos matemáticos, tampoco valido para el lenguaje de programación\n",
      "Lo correcto es lo siguiente:\n",
      "a = float('3.8')\n",
      "3.8\n"
     ]
    }
   ],
   "source": [
    "print('Porque el caracter \",\" no es correcto para los decimales en terminos matemáticos, tampoco valido para el lenguaje de programación')\n",
    "print('Lo correcto es lo siguiente:')\n",
    "print(\"a = float('3.8')\")\n",
    "a22 = (float('3.8'))\n",
    "print(a22)\n"
   ]
  },
  {
   "cell_type": "markdown",
   "metadata": {},
   "source": [
    "23) Crear una variable con el valor 3, y utilizar el operador '-=' para modificar su contenido"
   ]
  },
  {
   "cell_type": "code",
   "execution_count": null,
   "metadata": {},
   "outputs": [
    {
     "name": "stdout",
     "output_type": "stream",
     "text": [
      "2\n"
     ]
    }
   ],
   "source": [
    "a = 3\n",
    "a -= 1\n",
    "print(a)"
   ]
  },
  {
   "cell_type": "markdown",
   "metadata": {},
   "source": [
    "24) Realizar la operacion 1 << 2 ¿Por qué da ese resultado? ¿Qué es el sistema de numeración binario?"
   ]
  },
  {
   "cell_type": "code",
   "execution_count": null,
   "metadata": {},
   "outputs": [
    {
     "name": "stdout",
     "output_type": "stream",
     "text": [
      "Nos muestra ese resultado ya que realiza una operacion llamada Bitshift, en este caso a la izquierda; el numero 1 es representado por 1 en binario\n",
      "al realizar la operacion de bitshift a la izquierda, la operacion nos indica que debe recorrerse 2 valores a la izquierda dando lugar al 100\n",
      "el cual al ser convertido de binario a decimal da como resultado el numero 4.\n",
      "Es un sistema de numeracion compuesto por 2 digitos el 1 y el 0; el cual es usado comunmente en el área informática.\n"
     ]
    },
    {
     "data": {
      "text/plain": [
       "'1 << 2 = 4'"
      ]
     },
     "execution_count": 3,
     "metadata": {},
     "output_type": "execute_result"
    }
   ],
   "source": [
    "a24 = 1 << 2\n",
    "print('Nos muestra ese resultado ya que realiza una operacion llamada Bitshift, en este caso a la izquierda; el numero 1 es representado por 1 en binario') \n",
    "print('al realizar la operacion de bitshift a la izquierda, la operacion nos indica que debe recorrerse 2 valores a la izquierda dando lugar al 100') \n",
    "print('el cual al ser convertido de binario a decimal da como resultado el numero 4.')\n",
    "print('Es un sistema de numeracion compuesto por 2 digitos el 1 y el 0; el cual es usado comunmente en el área informática.')\n",
    "'1 << 2 = 4'"
   ]
  },
  {
   "cell_type": "markdown",
   "metadata": {},
   "source": [
    "25) Realizar la operación 2 + '2' ¿Por qué no está permitido? ¿Si los dos operandos serían del mismo tipo, siempre arrojaría el mismo resultado?"
   ]
  },
  {
   "cell_type": "code",
   "execution_count": null,
   "metadata": {},
   "outputs": [
    {
     "name": "stdout",
     "output_type": "stream",
     "text": [
      "No esta permitida la operacion ya que no se puede sumar datos del tipo string e integer, mas si concatenar\n",
      "Si los operandos son del mismo tipo el resultado dependerá del tipo de caracter, si son integer será una suma, si son string será una concatenación\n"
     ]
    }
   ],
   "source": [
    "print('No esta permitida la operacion ya que no se puede sumar datos del tipo string e integer, mas si concatenar')\n",
    "print('Si los operandos son del mismo tipo el resultado dependerá del tipo de caracter, si son integer será una suma, si son string será una concatenación')"
   ]
  },
  {
   "cell_type": "markdown",
   "metadata": {},
   "source": [
    "26) Realizar una operación válida entre valores de tipo entero y string"
   ]
  },
  {
   "cell_type": "code",
   "execution_count": null,
   "metadata": {},
   "outputs": [
    {
     "name": "stdout",
     "output_type": "stream",
     "text": [
      "ABCDE ABCDE ABCDE ABCDE ABCDE \n",
      "Es un ejemplo de operacion entre 2 tipos de valores\n"
     ]
    }
   ],
   "source": [
    "Var261 = 'ABCDE '\n",
    "Var262 = 5\n",
    "a26 = Var261 * Var262\n",
    "print(a26)\n",
    "print ('Es un ejemplo de operacion entre 2 tipos de valores')"
   ]
  }
 ],
 "metadata": {
  "interpreter": {
   "hash": "c85384e4cb51c8b72350f3a8712cc8351fdc3955e32a27f9b60c6242ab125f01"
  },
  "kernelspec": {
   "display_name": "Python 3 (ipykernel)",
   "language": "python",
   "name": "python3"
  },
  "language_info": {
   "codemirror_mode": {
    "name": "ipython",
    "version": 3
   },
   "file_extension": ".py",
   "mimetype": "text/x-python",
   "name": "python",
   "nbconvert_exporter": "python",
   "pygments_lexer": "ipython3",
   "version": "3.10.2"
  }
 },
 "nbformat": 4,
 "nbformat_minor": 4
}
